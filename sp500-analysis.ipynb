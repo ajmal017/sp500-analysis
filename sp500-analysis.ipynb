{
 "cells": [
  {
   "cell_type": "markdown",
   "metadata": {},
   "source": [
    "# Behaviour of the S&P500 in the close"
   ]
  },
  {
   "cell_type": "code",
   "execution_count": 18,
   "metadata": {},
   "outputs": [
    {
     "data": {
      "text/plain": [
       "'/Users/Armellini1/opt/anaconda3/envs/finenv/bin/python'"
      ]
     },
     "execution_count": 18,
     "metadata": {},
     "output_type": "execute_result"
    }
   ],
   "source": [
    "import sys\n",
    "sys.executable # Check in which virtual environment I am operating"
   ]
  },
  {
   "cell_type": "code",
   "execution_count": 43,
   "metadata": {},
   "outputs": [],
   "source": [
    "import numpy as np\n",
    "import pandas as pd\n",
    "# Module to retrieve data on financial instruments (similar to 'yahoo finance')\n",
    "import yfinance as yf \n",
    "import matplotlib\n",
    "from matplotlib import pyplot as plt\n",
    "import datetime"
   ]
  },
  {
   "cell_type": "code",
   "execution_count": null,
   "metadata": {},
   "outputs": [],
   "source": []
  },
  {
   "cell_type": "markdown",
   "metadata": {},
   "source": [
    "## Import data"
   ]
  },
  {
   "cell_type": "code",
   "execution_count": 20,
   "metadata": {},
   "outputs": [
    {
     "name": "stdout",
     "output_type": "stream",
     "text": [
      "[*********************100%***********************]  1 of 1 completed\n"
     ]
    }
   ],
   "source": [
    "df = yf.download(tickers='^GSPC', period='1y', interval='1d')\n",
    "df.drop(columns=['Adj Close', 'Open', 'High', 'Low'], inplace = True)"
   ]
  },
  {
   "cell_type": "code",
   "execution_count": 21,
   "metadata": {},
   "outputs": [
    {
     "name": "stdout",
     "output_type": "stream",
     "text": [
      "[*********************100%***********************]  1 of 1 completed\n"
     ]
    }
   ],
   "source": [
    "dft = yf.download(tickers='^GSPTSE', period='1y', interval='1d')\n",
    "dft.drop(columns=['Adj Close', 'Open', 'High', 'Low'], inplace = True)"
   ]
  },
  {
   "cell_type": "code",
   "execution_count": 22,
   "metadata": {
    "scrolled": true
   },
   "outputs": [
    {
     "name": "stdout",
     "output_type": "stream",
     "text": [
      "Data from 2019-04-15 00:00:00 to 2020-04-14 00:00:00\n"
     ]
    },
    {
     "data": {
      "text/html": [
       "<div>\n",
       "<style scoped>\n",
       "    .dataframe tbody tr th:only-of-type {\n",
       "        vertical-align: middle;\n",
       "    }\n",
       "\n",
       "    .dataframe tbody tr th {\n",
       "        vertical-align: top;\n",
       "    }\n",
       "\n",
       "    .dataframe thead th {\n",
       "        text-align: right;\n",
       "    }\n",
       "</style>\n",
       "<table border=\"1\" class=\"dataframe\">\n",
       "  <thead>\n",
       "    <tr style=\"text-align: right;\">\n",
       "      <th></th>\n",
       "      <th>Close</th>\n",
       "      <th>Volume</th>\n",
       "    </tr>\n",
       "    <tr>\n",
       "      <th>Date</th>\n",
       "      <th></th>\n",
       "      <th></th>\n",
       "    </tr>\n",
       "  </thead>\n",
       "  <tbody>\n",
       "    <tr>\n",
       "      <th>2020-04-07</th>\n",
       "      <td>2659.409912</td>\n",
       "      <td>7040720000</td>\n",
       "    </tr>\n",
       "    <tr>\n",
       "      <th>2020-04-08</th>\n",
       "      <td>2749.979980</td>\n",
       "      <td>5856370000</td>\n",
       "    </tr>\n",
       "    <tr>\n",
       "      <th>2020-04-09</th>\n",
       "      <td>2789.820068</td>\n",
       "      <td>7880140000</td>\n",
       "    </tr>\n",
       "    <tr>\n",
       "      <th>2020-04-13</th>\n",
       "      <td>2761.629883</td>\n",
       "      <td>5274310000</td>\n",
       "    </tr>\n",
       "    <tr>\n",
       "      <th>2020-04-14</th>\n",
       "      <td>2816.209961</td>\n",
       "      <td>965383319</td>\n",
       "    </tr>\n",
       "  </tbody>\n",
       "</table>\n",
       "</div>"
      ],
      "text/plain": [
       "                  Close      Volume\n",
       "Date                               \n",
       "2020-04-07  2659.409912  7040720000\n",
       "2020-04-08  2749.979980  5856370000\n",
       "2020-04-09  2789.820068  7880140000\n",
       "2020-04-13  2761.629883  5274310000\n",
       "2020-04-14  2816.209961   965383319"
      ]
     },
     "execution_count": 22,
     "metadata": {},
     "output_type": "execute_result"
    }
   ],
   "source": [
    "print(f\"Data from {df.index[0]} to {df.index[-1]}\")\n",
    "df.tail()"
   ]
  },
  {
   "cell_type": "code",
   "execution_count": 23,
   "metadata": {},
   "outputs": [
    {
     "name": "stdout",
     "output_type": "stream",
     "text": [
      "Data from 2019-04-15 00:00:00 to 2020-04-14 00:00:00\n"
     ]
    },
    {
     "data": {
      "text/html": [
       "<div>\n",
       "<style scoped>\n",
       "    .dataframe tbody tr th:only-of-type {\n",
       "        vertical-align: middle;\n",
       "    }\n",
       "\n",
       "    .dataframe tbody tr th {\n",
       "        vertical-align: top;\n",
       "    }\n",
       "\n",
       "    .dataframe thead th {\n",
       "        text-align: right;\n",
       "    }\n",
       "</style>\n",
       "<table border=\"1\" class=\"dataframe\">\n",
       "  <thead>\n",
       "    <tr style=\"text-align: right;\">\n",
       "      <th></th>\n",
       "      <th>Close</th>\n",
       "      <th>Volume</th>\n",
       "    </tr>\n",
       "    <tr>\n",
       "      <th>Date</th>\n",
       "      <th></th>\n",
       "      <th></th>\n",
       "    </tr>\n",
       "  </thead>\n",
       "  <tbody>\n",
       "    <tr>\n",
       "      <th>2020-04-07</th>\n",
       "      <td>13614.099609</td>\n",
       "      <td>400917900</td>\n",
       "    </tr>\n",
       "    <tr>\n",
       "      <th>2020-04-08</th>\n",
       "      <td>13925.700195</td>\n",
       "      <td>374163600</td>\n",
       "    </tr>\n",
       "    <tr>\n",
       "      <th>2020-04-09</th>\n",
       "      <td>14166.599609</td>\n",
       "      <td>437301200</td>\n",
       "    </tr>\n",
       "    <tr>\n",
       "      <th>2020-04-13</th>\n",
       "      <td>14075.900391</td>\n",
       "      <td>326410100</td>\n",
       "    </tr>\n",
       "    <tr>\n",
       "      <th>2020-04-14</th>\n",
       "      <td>14275.169922</td>\n",
       "      <td>100364529</td>\n",
       "    </tr>\n",
       "  </tbody>\n",
       "</table>\n",
       "</div>"
      ],
      "text/plain": [
       "                   Close     Volume\n",
       "Date                               \n",
       "2020-04-07  13614.099609  400917900\n",
       "2020-04-08  13925.700195  374163600\n",
       "2020-04-09  14166.599609  437301200\n",
       "2020-04-13  14075.900391  326410100\n",
       "2020-04-14  14275.169922  100364529"
      ]
     },
     "execution_count": 23,
     "metadata": {},
     "output_type": "execute_result"
    }
   ],
   "source": [
    "print(f\"Data from {dft.index[0]} to {dft.index[-1]}\")\n",
    "dft.tail()"
   ]
  },
  {
   "cell_type": "markdown",
   "metadata": {},
   "source": [
    "## Manipulate Data"
   ]
  },
  {
   "cell_type": "code",
   "execution_count": 24,
   "metadata": {
    "scrolled": true
   },
   "outputs": [],
   "source": [
    "def add_Change(df):\n",
    "    df['Change'] = ((df['Close'] - df['Close'].shift(1)) / df['Close'].shift(1)) * 100\n",
    "    return df"
   ]
  },
  {
   "cell_type": "code",
   "execution_count": 25,
   "metadata": {},
   "outputs": [],
   "source": [
    "def add_SMA(df):\n",
    "    df['SMA'] = (df['Change'] + df['Change'].shift(1) + df['Change'].shift(2)) * 1/3\n",
    "    return df"
   ]
  },
  {
   "cell_type": "code",
   "execution_count": 26,
   "metadata": {},
   "outputs": [],
   "source": [
    "df = add_Change(df)\n",
    "df = add_SMA(df)\n",
    "\n",
    "dft = add_Change(dft)\n",
    "dft = add_SMA(dft)"
   ]
  },
  {
   "cell_type": "code",
   "execution_count": 27,
   "metadata": {},
   "outputs": [
    {
     "data": {
      "text/html": [
       "<div>\n",
       "<style scoped>\n",
       "    .dataframe tbody tr th:only-of-type {\n",
       "        vertical-align: middle;\n",
       "    }\n",
       "\n",
       "    .dataframe tbody tr th {\n",
       "        vertical-align: top;\n",
       "    }\n",
       "\n",
       "    .dataframe thead th {\n",
       "        text-align: right;\n",
       "    }\n",
       "</style>\n",
       "<table border=\"1\" class=\"dataframe\">\n",
       "  <thead>\n",
       "    <tr style=\"text-align: right;\">\n",
       "      <th></th>\n",
       "      <th>Close</th>\n",
       "      <th>Volume</th>\n",
       "      <th>Change</th>\n",
       "      <th>SMA</th>\n",
       "    </tr>\n",
       "    <tr>\n",
       "      <th>Date</th>\n",
       "      <th></th>\n",
       "      <th></th>\n",
       "      <th></th>\n",
       "      <th></th>\n",
       "    </tr>\n",
       "  </thead>\n",
       "  <tbody>\n",
       "    <tr>\n",
       "      <th>2020-04-07</th>\n",
       "      <td>2659.409912</td>\n",
       "      <td>7040720000</td>\n",
       "      <td>-0.160305</td>\n",
       "      <td>1.786371</td>\n",
       "    </tr>\n",
       "    <tr>\n",
       "      <th>2020-04-08</th>\n",
       "      <td>2749.979980</td>\n",
       "      <td>5856370000</td>\n",
       "      <td>3.405645</td>\n",
       "      <td>3.426157</td>\n",
       "    </tr>\n",
       "    <tr>\n",
       "      <th>2020-04-09</th>\n",
       "      <td>2789.820068</td>\n",
       "      <td>7880140000</td>\n",
       "      <td>1.448741</td>\n",
       "      <td>1.564694</td>\n",
       "    </tr>\n",
       "    <tr>\n",
       "      <th>2020-04-13</th>\n",
       "      <td>2761.629883</td>\n",
       "      <td>5274310000</td>\n",
       "      <td>-1.010466</td>\n",
       "      <td>1.281307</td>\n",
       "    </tr>\n",
       "    <tr>\n",
       "      <th>2020-04-14</th>\n",
       "      <td>2816.209961</td>\n",
       "      <td>965383319</td>\n",
       "      <td>1.976372</td>\n",
       "      <td>0.804882</td>\n",
       "    </tr>\n",
       "  </tbody>\n",
       "</table>\n",
       "</div>"
      ],
      "text/plain": [
       "                  Close      Volume    Change       SMA\n",
       "Date                                                   \n",
       "2020-04-07  2659.409912  7040720000 -0.160305  1.786371\n",
       "2020-04-08  2749.979980  5856370000  3.405645  3.426157\n",
       "2020-04-09  2789.820068  7880140000  1.448741  1.564694\n",
       "2020-04-13  2761.629883  5274310000 -1.010466  1.281307\n",
       "2020-04-14  2816.209961   965383319  1.976372  0.804882"
      ]
     },
     "execution_count": 27,
     "metadata": {},
     "output_type": "execute_result"
    }
   ],
   "source": [
    "df.tail()"
   ]
  },
  {
   "cell_type": "code",
   "execution_count": 28,
   "metadata": {},
   "outputs": [
    {
     "data": {
      "text/html": [
       "<div>\n",
       "<style scoped>\n",
       "    .dataframe tbody tr th:only-of-type {\n",
       "        vertical-align: middle;\n",
       "    }\n",
       "\n",
       "    .dataframe tbody tr th {\n",
       "        vertical-align: top;\n",
       "    }\n",
       "\n",
       "    .dataframe thead th {\n",
       "        text-align: right;\n",
       "    }\n",
       "</style>\n",
       "<table border=\"1\" class=\"dataframe\">\n",
       "  <thead>\n",
       "    <tr style=\"text-align: right;\">\n",
       "      <th></th>\n",
       "      <th>Close</th>\n",
       "      <th>Volume</th>\n",
       "      <th>Change</th>\n",
       "      <th>SMA</th>\n",
       "    </tr>\n",
       "    <tr>\n",
       "      <th>Date</th>\n",
       "      <th></th>\n",
       "      <th></th>\n",
       "      <th></th>\n",
       "      <th></th>\n",
       "    </tr>\n",
       "  </thead>\n",
       "  <tbody>\n",
       "    <tr>\n",
       "      <th>2020-04-07</th>\n",
       "      <td>13614.099609</td>\n",
       "      <td>400917900</td>\n",
       "      <td>0.157433</td>\n",
       "      <td>1.332509</td>\n",
       "    </tr>\n",
       "    <tr>\n",
       "      <th>2020-04-08</th>\n",
       "      <td>13925.700195</td>\n",
       "      <td>374163600</td>\n",
       "      <td>2.288808</td>\n",
       "      <td>2.501365</td>\n",
       "    </tr>\n",
       "    <tr>\n",
       "      <th>2020-04-09</th>\n",
       "      <td>14166.599609</td>\n",
       "      <td>437301200</td>\n",
       "      <td>1.729891</td>\n",
       "      <td>1.392044</td>\n",
       "    </tr>\n",
       "    <tr>\n",
       "      <th>2020-04-13</th>\n",
       "      <td>14075.900391</td>\n",
       "      <td>326410100</td>\n",
       "      <td>-0.640233</td>\n",
       "      <td>1.126155</td>\n",
       "    </tr>\n",
       "    <tr>\n",
       "      <th>2020-04-14</th>\n",
       "      <td>14275.169922</td>\n",
       "      <td>100364529</td>\n",
       "      <td>1.415679</td>\n",
       "      <td>0.835112</td>\n",
       "    </tr>\n",
       "  </tbody>\n",
       "</table>\n",
       "</div>"
      ],
      "text/plain": [
       "                   Close     Volume    Change       SMA\n",
       "Date                                                   \n",
       "2020-04-07  13614.099609  400917900  0.157433  1.332509\n",
       "2020-04-08  13925.700195  374163600  2.288808  2.501365\n",
       "2020-04-09  14166.599609  437301200  1.729891  1.392044\n",
       "2020-04-13  14075.900391  326410100 -0.640233  1.126155\n",
       "2020-04-14  14275.169922  100364529  1.415679  0.835112"
      ]
     },
     "execution_count": 28,
     "metadata": {},
     "output_type": "execute_result"
    }
   ],
   "source": [
    "dft.tail()"
   ]
  },
  {
   "cell_type": "markdown",
   "metadata": {},
   "source": [
    "## PLOT"
   ]
  },
  {
   "cell_type": "code",
   "execution_count": 29,
   "metadata": {},
   "outputs": [],
   "source": [
    "from matplotlib.ticker import PercentFormatter\n",
    "from matplotlib.dates import AutoDateLocator, AutoDateFormatter, ConciseDateFormatter"
   ]
  },
  {
   "cell_type": "code",
   "execution_count": 30,
   "metadata": {},
   "outputs": [],
   "source": [
    "def manage_patches_color(patches):\n",
    "    \n",
    "    for patch in patches:\n",
    "        if patch.get_height() >= 0:\n",
    "            patch.set_color('#1E8449')\n",
    "        else: \n",
    "            patch.set_color('#D13B1B')"
   ]
  },
  {
   "cell_type": "code",
   "execution_count": 31,
   "metadata": {},
   "outputs": [],
   "source": [
    "def my_plotter(fig, ax, df, start_date, end_date, title):\n",
    "    \n",
    "    fig.set_size_inches(16,8)\n",
    "    bar_output = ax.bar(x=df.loc[start_date:end_date].index, \n",
    "                 height=df.loc[start_date:end_date, 'Change'], alpha=0.8)\n",
    "    manage_patches_color(patches=bar_output.patches)\n",
    "    ax.plot(df.loc[start_date:end_date].index, df.loc[start_date:end_date, 'SMA'], color='#2D2624', linestyle='--', alpha=1)\n",
    "    ax.yaxis.set_major_formatter(PercentFormatter())\n",
    "    ax.xaxis.set_major_locator(AutoDateLocator())\n",
    "    ax.xaxis.set_major_formatter(ConciseDateFormatter(AutoDateLocator()))\n",
    "    ax.grid(b=False, axis='x')\n",
    "    ax.spines['right'].set_visible(False)\n",
    "    ax.spines['left'].set_visible(False)\n",
    "    ax.spines['top'].set_visible(False)\n",
    "    ax.spines['bottom'].set_visible(True)\n",
    "    ax.set_title(title)\n",
    "    \n",
    "    return bar_output\n"
   ]
  },
  {
   "cell_type": "code",
   "execution_count": 32,
   "metadata": {},
   "outputs": [],
   "source": [
    "matplotlib.style.use('seaborn-whitegrid')\n",
    "# specify the custom font to use\n",
    "# plt.rcParams['font.family'] = 'Andale Mono'\n",
    "# plt.rcParams['font.sans-serif'] = 'Regular'\n",
    "plt.rcParams['font.size'] = 14\n"
   ]
  },
  {
   "cell_type": "code",
   "execution_count": 33,
   "metadata": {},
   "outputs": [
    {
     "data": {
      "image/png": "[encoded data removed]",
      "text/plain": [
       "<Figure size 1152x576 with 1 Axes>"
      ]
     },
     "metadata": {},
     "output_type": "display_data"
    }
   ],
   "source": [
    "fig, ax = plt.subplots()\n",
    "out = my_plotter(fig, ax, df, '2020-01', '2020-05', 'S&P500')"
   ]
  },
  {
   "cell_type": "code",
   "execution_count": 34,
   "metadata": {},
   "outputs": [
    {
     "data": {
      "image/png": "[encoded data removed]",
      "text/plain": [
       "<Figure size 1152x576 with 1 Axes>"
      ]
     },
     "metadata": {},
     "output_type": "display_data"
    }
   ],
   "source": [
    "fig, ax = plt.subplots()\n",
    "out = my_plotter(fig, ax, dft, '2020-01', '2020-05', 'S&P/TSX')"
   ]
  },
  {
   "cell_type": "code",
   "execution_count": null,
   "metadata": {},
   "outputs": [],
   "source": []
  },
  {
   "cell_type": "markdown",
   "metadata": {},
   "source": [
    "# TSLA vs normal stock over a year"
   ]
  },
  {
   "cell_type": "code",
   "execution_count": 60,
   "metadata": {},
   "outputs": [
    {
     "name": "stdout",
     "output_type": "stream",
     "text": [
      "[*********************100%***********************]  1 of 1 completed\n",
      "[*********************100%***********************]  1 of 1 completed\n"
     ]
    },
    {
     "data": {
      "text/html": [
       "<div>\n",
       "<style scoped>\n",
       "    .dataframe tbody tr th:only-of-type {\n",
       "        vertical-align: middle;\n",
       "    }\n",
       "\n",
       "    .dataframe tbody tr th {\n",
       "        vertical-align: top;\n",
       "    }\n",
       "\n",
       "    .dataframe thead th {\n",
       "        text-align: right;\n",
       "    }\n",
       "</style>\n",
       "<table border=\"1\" class=\"dataframe\">\n",
       "  <thead>\n",
       "    <tr style=\"text-align: right;\">\n",
       "      <th></th>\n",
       "      <th>Close</th>\n",
       "      <th>Volume</th>\n",
       "    </tr>\n",
       "    <tr>\n",
       "      <th>Date</th>\n",
       "      <th></th>\n",
       "      <th></th>\n",
       "    </tr>\n",
       "  </thead>\n",
       "  <tbody>\n",
       "    <tr>\n",
       "      <th>2020-04-07</th>\n",
       "      <td>259.429993</td>\n",
       "      <td>50721800</td>\n",
       "    </tr>\n",
       "    <tr>\n",
       "      <th>2020-04-08</th>\n",
       "      <td>266.070007</td>\n",
       "      <td>42223800</td>\n",
       "    </tr>\n",
       "    <tr>\n",
       "      <th>2020-04-09</th>\n",
       "      <td>267.989990</td>\n",
       "      <td>40529100</td>\n",
       "    </tr>\n",
       "    <tr>\n",
       "      <th>2020-04-13</th>\n",
       "      <td>273.250000</td>\n",
       "      <td>32663400</td>\n",
       "    </tr>\n",
       "    <tr>\n",
       "      <th>2020-04-14</th>\n",
       "      <td>283.050995</td>\n",
       "      <td>20521116</td>\n",
       "    </tr>\n",
       "  </tbody>\n",
       "</table>\n",
       "</div>"
      ],
      "text/plain": [
       "                 Close    Volume\n",
       "Date                            \n",
       "2020-04-07  259.429993  50721800\n",
       "2020-04-08  266.070007  42223800\n",
       "2020-04-09  267.989990  40529100\n",
       "2020-04-13  273.250000  32663400\n",
       "2020-04-14  283.050995  20521116"
      ]
     },
     "execution_count": 60,
     "metadata": {},
     "output_type": "execute_result"
    }
   ],
   "source": [
    "tsla = yf.download(tickers='TSLA', period='1y', interval='1d')\n",
    "aapl = yf.download(tickers='AAPL', period='1y', interval='1d')\n",
    "tsla.drop(columns=['Adj Close', 'Open', 'High', 'Low'], inplace = True)\n",
    "aapl.drop(columns=['Adj Close', 'Open', 'High', 'Low'], inplace = True)\n",
    "tsla.tail()\n",
    "aapl.tail()"
   ]
  },
  {
   "cell_type": "code",
   "execution_count": 67,
   "metadata": {},
   "outputs": [],
   "source": [
    "tsla_origin = tsla.loc['20200302', 'Close']\n",
    "aapl_origin = aapl.loc['20200302', 'Close']"
   ]
  },
  {
   "cell_type": "code",
   "execution_count": 68,
   "metadata": {},
   "outputs": [],
   "source": [
    "tsla['Change over 1y'] = ((tsla['Close'] - tsla_origin) / tsla_origin) * 100\n",
    "aapl['Change over 1y'] = ((aapl['Close'] - aapl_origin) / aapl_origin) * 100"
   ]
  },
  {
   "cell_type": "code",
   "execution_count": 69,
   "metadata": {},
   "outputs": [
    {
     "data": {
      "image/png": "[encoded data removed]",
      "text/plain": [
       "<Figure size 1152x576 with 1 Axes>"
      ]
     },
     "metadata": {
      "needs_background": "light"
     },
     "output_type": "display_data"
    }
   ],
   "source": [
    "# %matplotlib inline\n",
    "fig, ax = plt.subplots()\n",
    "fig.set_size_inches(16,8)\n",
    "ax.plot(tsla.loc['20200301':].index, tsla.loc['20200301':, 'Change over 1y'], color='#f54242', linestyle='-', alpha=1, label='Tesla')\n",
    "ax.plot(aapl.loc['20200301':].index, aapl.loc['20200301':, 'Change over 1y'], color='#2b2424', linestyle='-', alpha=1, label='Apple')\n",
    "ax.yaxis.set_major_formatter(PercentFormatter())\n",
    "ax.xaxis.set_major_locator(AutoDateLocator())\n",
    "ax.xaxis.set_major_formatter(ConciseDateFormatter(AutoDateLocator()))\n",
    "ax.grid(b=False, axis='x')\n",
    "ax.spines['right'].set_visible(False)\n",
    "ax.spines['left'].set_visible(False)\n",
    "ax.spines['top'].set_visible(False)\n",
    "ax.spines['bottom'].set_visible(True)\n",
    "ax.legend()\n",
    "txt_out = ax.set_title(\"TSLA vs AAPL % Change over one year\")"
   ]
  },
  {
   "cell_type": "code",
   "execution_count": null,
   "metadata": {},
   "outputs": [],
   "source": []
  },
  {
   "cell_type": "code",
   "execution_count": null,
   "metadata": {},
   "outputs": [],
   "source": []
  },
  {
   "cell_type": "code",
   "execution_count": null,
   "metadata": {},
   "outputs": [],
   "source": []
  },
  {
   "cell_type": "code",
   "execution_count": null,
   "metadata": {},
   "outputs": [],
   "source": []
  },
  {
   "cell_type": "code",
   "execution_count": null,
   "metadata": {},
   "outputs": [],
   "source": []
  },
  {
   "cell_type": "code",
   "execution_count": null,
   "metadata": {},
   "outputs": [],
   "source": []
  },
  {
   "cell_type": "code",
   "execution_count": null,
   "metadata": {},
   "outputs": [],
   "source": []
  }
 ],
 "metadata": {
  "kernelspec": {
   "display_name": "Python 3",
   "language": "python",
   "name": "python3"
  },
  "language_info": {
   "codemirror_mode": {
    "name": "ipython",
    "version": 3
   },
   "file_extension": ".py",
   "mimetype": "text/x-python",
   "name": "python",
   "nbconvert_exporter": "python",
   "pygments_lexer": "ipython3",
   "version": "3.8.2"
  },
  "varInspector": {
   "cols": {
    "lenName": 16,
    "lenType": 16,
    "lenVar": 40
   },
   "kernels_config": {
    "python": {
     "delete_cmd_postfix": "",
     "delete_cmd_prefix": "del ",
     "library": "var_list.py",
     "varRefreshCmd": "print(var_dic_list())"
    },
    "r": {
     "delete_cmd_postfix": ") ",
     "delete_cmd_prefix": "rm(",
     "library": "var_list.r",
     "varRefreshCmd": "cat(var_dic_list()) "
    }
   },
   "types_to_exclude": [
    "module",
    "function",
    "builtin_function_or_method",
    "instance",
    "_Feature"
   ],
   "window_display": false
  }
 },
 "nbformat": 4,
 "nbformat_minor": 4
}
